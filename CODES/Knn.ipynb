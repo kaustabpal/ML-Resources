{
 "cells": [
  {
   "cell_type": "markdown",
   "metadata": {},
   "source": [
    "# KNN Implementation"
   ]
  },
  {
   "cell_type": "code",
   "execution_count": 2,
   "metadata": {},
   "outputs": [],
   "source": [
    "import numpy as np\n",
    "import matplotlib.pyplot as plt"
   ]
  },
  {
   "cell_type": "code",
   "execution_count": 129,
   "metadata": {},
   "outputs": [],
   "source": [
    "def plot_data(data_points):\n",
    "    '''\n",
    "    Takes the data points as input.\n",
    "    if class == 0, plots red o.\n",
    "    if class == 1, plots black x.\n",
    "    '''\n",
    "    class_labels = [\"+\",\"o\"]\n",
    "    for i in range(data_points.shape[0]):\n",
    "        x = data_points[i][0]\n",
    "        y = data_points[i][1]\n",
    "        if(int(data_points[i][2])==0):\n",
    "            label = 'ro'\n",
    "        if(int(data_points[i][2])==1):\n",
    "            label = 'kx'\n",
    "        \n",
    "        plt.plot(x,y,label)\n",
    "    plt.axis('square')\n",
    "    plt.show()"
   ]
  },
  {
   "cell_type": "code",
   "execution_count": 130,
   "metadata": {},
   "outputs": [],
   "source": [
    "def euc_dist(data_set, new_pt):\n",
    "    '''\n",
    "    Takes the data_set and the new point as input.\n",
    "    Returns a list containing the distance from the new point to all the points in the dataset\n",
    "    '''    \n",
    "    dist = np.random.rand(data_set.shape[0]) # initialize a random list of the same size as the number of points in the data_set\n",
    "    \n",
    "    new_x = new_pt[0] # x val of the new point\n",
    "    new_y = new_pt[1] # y val of the new point\n",
    "    \n",
    "    for i in range(data_set.shape[0]):\n",
    "        x = data_set[i][0] # x val of point i\n",
    "        y = data_set[i][1] # y val of point i\n",
    "        \n",
    "        d = np.sqrt( (new_y - y)**2 + (new_x - x)**2 ) # distance between point i and new_pt\n",
    "        dist[i] = d\n",
    "    return dist      "
   ]
  },
  {
   "cell_type": "code",
   "execution_count": 116,
   "metadata": {},
   "outputs": [],
   "source": [
    "def assign_class(data_set, indices):\n",
    "    '''\n",
    "    Function to assign a class to the new point based on the classes of the k closest points\n",
    "    Takes the data_set and the list of k indics as input. \n",
    "    The indices are the positions of the nearest neighbors in the dataset.\n",
    "    '''\n",
    "    count_class = [0,0] # Position 0 = number of nearest neighbors having class 0. Position 1 = number of nearest neighbors having class 1.\n",
    "    for i in indices:\n",
    "        c = int(data_set[i][2]) \n",
    "        count_class[c] += 1\n",
    "    return np.argmax(count_class)        "
   ]
  },
  {
   "cell_type": "code",
   "execution_count": 135,
   "metadata": {},
   "outputs": [],
   "source": [
    "def knn(new_pt, data_set,  k=1):\n",
    "    '''\n",
    "    Takes the new point and k as input. \n",
    "    Calculates it's euclidean distance to all the existing points.\n",
    "    Take the k closest points.\n",
    "    the class that occures maximum number of times get's assigned to the new point.\n",
    "    '''\n",
    "    dist = euc_dist(data_set, new_pt)\n",
    "    indices = dist.argsort()[:k] # argsort() is a numpy function that Returns the indices that would sort this array. We are taking the first k indices.\n",
    "    c = assign_class(data_set, indices)\n",
    "    return np.append(data_set,[[new_pt[0], new_pt[1],c]], axis = 0), c    # returns the new point with the assigned class"
   ]
  },
  {
   "cell_type": "code",
   "execution_count": 149,
   "metadata": {},
   "outputs": [],
   "source": [
    "# Input points\n",
    "data_set = np.array([[0.5,0.5,0],[0.75,0.25,0],[0.25,0.75,0],[1,1,0],[2,2,0],\n",
    "                     [-2,-2,1],[-0.25,-0.25,1],[-1.5,-2.5,1],[-3,-2,1],[-2,-3,1]]) # every point is of the format [x,y,class]. Here class is either 0 or 1."
   ]
  },
  {
   "cell_type": "code",
   "execution_count": 150,
   "metadata": {},
   "outputs": [
    {
     "data": {
      "image/png": "[encoded data removed]",
      "text/plain": [
       "<Figure size 432x288 with 1 Axes>"
      ]
     },
     "metadata": {
      "needs_background": "light"
     },
     "output_type": "display_data"
    },
    {
     "name": "stdout",
     "output_type": "stream",
     "text": [
      "The assigned class to the new point is: 0\n"
     ]
    }
   ],
   "source": [
    "new_pt = [0.5,0]\n",
    "data_set, point_class = knn(new_pt,data_set, k=1)\n",
    "plot_data(data_set)\n",
    "print(\"The assigned class to the new point is: {}\".format(point_class))"
   ]
  },
  {
   "cell_type": "code",
   "execution_count": null,
   "metadata": {},
   "outputs": [],
   "source": []
  }
 ],
 "metadata": {
  "kernelspec": {
   "display_name": "Python 3",
   "language": "python",
   "name": "python3"
  },
  "language_info": {
   "codemirror_mode": {
    "name": "ipython",
    "version": 3
   },
   "file_extension": ".py",
   "mimetype": "text/x-python",
   "name": "python",
   "nbconvert_exporter": "python",
   "pygments_lexer": "ipython3",
   "version": "3.8.5"
  }
 },
 "nbformat": 4,
 "nbformat_minor": 4
}
